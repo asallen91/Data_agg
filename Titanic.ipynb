{
 "cells": [
  {
   "cell_type": "code",
   "execution_count": null,
   "metadata": {},
   "outputs": [],
   "source": [
    "import pandas as pd\n",
    "import sqlite3\n",
    "import os\n",
    "\n",
    "# Connection to Database\n",
    "db = sqlite3.connect(\"Titanic.db\")\n",
    "\n",
    "# Read our CSV file (may be redundant)\n",
    "df = pd.read_csv('titanic.csv', header=None)\n",
    "\n",
    "# My to.sql call so as to avoid using cursors\n",
    "df.to_sql(\"Titanic\", db, if_exists=\"replace\")\n",
    "\n",
    "# This function can be used to insert, select, merge, etc, any data into the created database\n",
    "def run_query(query):\n",
    "    return pd.read_sql_query(query, db)\n"
   ]
  },
  {
   "cell_type": "code",
   "execution_count": null,
   "metadata": {},
   "outputs": [],
   "source": [
    "# Initial SELECT query to see which Table to run queries on\n",
    "query = \"\"\"\n",
    "SELECT *\n",
    "FROM sqlite_master\n",
    "\"\"\"\n",
    "\n",
    "run_query(query)"
   ]
  },
  {
   "cell_type": "code",
   "execution_count": null,
   "metadata": {},
   "outputs": [],
   "source": [
    "# Initial SELECT query inside the \"Titanic\" table\n",
    "query = \"\"\"\n",
    "SELECT *\n",
    "FROM Titanic\n",
    "\"\"\"\n",
    "\n",
    "run_query(query)"
   ]
  },
  {
   "cell_type": "code",
   "execution_count": null,
   "metadata": {},
   "outputs": [],
   "source": [
    "# Alter table statements can only be ran one at a time\n",
    "# These next few queries will change the column names from numbers to their respected data\n",
    "query = \"\"\"\n",
    "ALTER TABLE Titanic RENAME COLUMN \"0\" TO \"Passenger_ID\"\n",
    "\n",
    "\"\"\"\n",
    "run_query(query)"
   ]
  },
  {
   "cell_type": "code",
   "execution_count": null,
   "metadata": {},
   "outputs": [],
   "source": [
    "query = \"\"\"\n",
    "ALTER TABLE Titanic RENAME COLUMN \"1\" TO \"Survived\"\n",
    "\n",
    "\"\"\"\n",
    "run_query(query)"
   ]
  },
  {
   "cell_type": "code",
   "execution_count": null,
   "metadata": {},
   "outputs": [],
   "source": [
    "query = \"\"\"\n",
    "ALTER TABLE Titanic RENAME COLUMN \"3\" TO \"Passenger_Name\"\n",
    "\n",
    "\"\"\"\n",
    "run_query(query)"
   ]
  },
  {
   "cell_type": "code",
   "execution_count": null,
   "metadata": {},
   "outputs": [],
   "source": [
    "query = \"\"\"\n",
    "ALTER TABLE Titanic RENAME COLUMN \"4\" TO \"Passenger_Sex\"\n",
    "\n",
    "\"\"\"\n",
    "run_query(query)"
   ]
  },
  {
   "cell_type": "code",
   "execution_count": null,
   "metadata": {},
   "outputs": [],
   "source": [
    "query = \"\"\"\n",
    "ALTER TABLE Titanic RENAME COLUMN \"5\" TO \"Passenger_Age\"\n",
    "\n",
    "\"\"\"\n",
    "run_query(query)"
   ]
  },
  {
   "cell_type": "code",
   "execution_count": null,
   "metadata": {},
   "outputs": [],
   "source": [
    "query = \"\"\"\n",
    "ALTER TABLE Titanic RENAME COLUMN \"8\" TO \"Cabin_ID\"\n",
    "\n",
    "\"\"\"\n",
    "run_query(query)"
   ]
  },
  {
   "cell_type": "code",
   "execution_count": null,
   "metadata": {},
   "outputs": [],
   "source": [
    "query = \"\"\"\n",
    "ALTER TABLE Titanic RENAME COLUMN \"9\" TO \"Caben_Fare\"\n",
    "\n",
    "\"\"\"\n",
    "run_query(query)"
   ]
  },
  {
   "cell_type": "code",
   "execution_count": null,
   "metadata": {},
   "outputs": [],
   "source": [
    "# Selection to view my work so far\n",
    "query = \"\"\"\n",
    "SELECT * FROM Titanic\n",
    "\"\"\"\n",
    "run_query(query)"
   ]
  },
  {
   "cell_type": "code",
   "execution_count": null,
   "metadata": {},
   "outputs": [],
   "source": [
    "# Noticing a typo in one of my column names, I ran a new ALTER TABLE statement to fix the typo\n",
    "query = \"\"\"\n",
    "ALTER TABLE Titanic RENAME COLUMN \"Caben_Fare\" TO \"Cabin_Fare\"\n",
    "\n",
    "\"\"\"\n",
    "run_query(query)"
   ]
  },
  {
   "cell_type": "code",
   "execution_count": null,
   "metadata": {},
   "outputs": [],
   "source": [
    "# Selection to view my work so far as well as narrowing down the results to show the columns I'd like to work on\n",
    "query = \"\"\"\n",
    "SELECT Passenger_ID, \n",
    "    Survived, \n",
    "    Passenger_Name, \n",
    "    Passenger_sex, \n",
    "    Passenger_age, \n",
    "    Cabin_ID, \n",
    "    Cabin_Fare\n",
    "FROM Titanic\n",
    "\"\"\"\n",
    "\n",
    "run_query(query)"
   ]
  },
  {
   "cell_type": "code",
   "execution_count": null,
   "metadata": {},
   "outputs": [],
   "source": [
    "# This query returns the Sum of all Passengers that survived\n",
    "query = \"\"\"\n",
    "SELECT\n",
    "    SUM(Survived) AS Survived_The_Titanic\n",
    "    FROM Titanic\n",
    "\"\"\"\n",
    "\n",
    "run_query(query)"
   ]
  },
  {
   "cell_type": "code",
   "execution_count": null,
   "metadata": {},
   "outputs": [],
   "source": [
    "# This query returns the amount of men aboard the Titanic\n",
    "query = \"\"\"\n",
    "SELECT\n",
    "    COUNT(Passenger_Sex)\n",
    "    AS Total_Number_0f_Men_Aboard\n",
    "    FROM Titanic\n",
    "    WHERE Passenger_Sex = \"male\"\n",
    "\"\"\"\n",
    "\n",
    "run_query(query)"
   ]
  },
  {
   "cell_type": "code",
   "execution_count": null,
   "metadata": {},
   "outputs": [],
   "source": [
    "# This query returns the amount of men aboard the Titanic\n",
    "query = \"\"\"\n",
    "SELECT\n",
    "    COUNT(Passenger_Sex)\n",
    "    AS Total_Number_0f_Women_Aboard\n",
    "    FROM Titanic\n",
    "    WHERE Passenger_Sex = \"female\"\n",
    "\"\"\"\n",
    "\n",
    "run_query(query)"
   ]
  },
  {
   "cell_type": "code",
   "execution_count": null,
   "metadata": {},
   "outputs": [],
   "source": [
    "# This query returns the amount of men that survived\n",
    "query = \"\"\"\n",
    "SELECT\n",
    "    COUNT(Passenger_Sex)\n",
    "    AS Total_Number_Of_Men_Survived\n",
    "    FROM Titanic\n",
    "    WHERE Passenger_Sex = \"male\"\n",
    "    AND\n",
    "    Survived = 1\n",
    "\"\"\"\n",
    "\n",
    "run_query(query)"
   ]
  },
  {
   "cell_type": "code",
   "execution_count": null,
   "metadata": {},
   "outputs": [],
   "source": [
    "# This query returns the amount of women that survived\n",
    "query = \"\"\"\n",
    "SELECT\n",
    "    COUNT(Passenger_Sex)\n",
    "    AS Total_Number_Of_Women_Survived\n",
    "    FROM Titanic\n",
    "    WHERE Passenger_Sex = \"female\"\n",
    "    AND\n",
    "    Survived = 1\n",
    "\"\"\"\n",
    "\n",
    "run_query(query)"
   ]
  },
  {
   "cell_type": "code",
   "execution_count": null,
   "metadata": {},
   "outputs": [],
   "source": [
    "# This query returns the rounded average cost of a ticket\n",
    "query = \"\"\"\n",
    "SELECT\n",
    "    ROUND(AVG(Cabin_fare), 2)\n",
    "    AS Average_Cabin_fare\n",
    "    FROM Titanic\n",
    "\"\"\"\n",
    "\n",
    "run_query(query)"
   ]
  },
  {
   "cell_type": "code",
   "execution_count": null,
   "metadata": {},
   "outputs": [],
   "source": [
    "# This query returns the rounded average age of the passengers\n",
    "query = \"\"\"\n",
    "SELECT\n",
    "    ROUND(AVG(Passenger_Age), 0)\n",
    "    AS Average_Passenger_Age\n",
    "    FROM Titanic\n",
    "\"\"\"\n",
    "\n",
    "run_query(query)"
   ]
  },
  {
   "cell_type": "code",
   "execution_count": null,
   "metadata": {},
   "outputs": [],
   "source": []
  }
 ],
 "metadata": {
  "kernelspec": {
   "display_name": "Python 3",
   "language": "python",
   "name": "python3"
  },
  "language_info": {
   "codemirror_mode": {
    "name": "ipython",
    "version": 3
   },
   "file_extension": ".py",
   "mimetype": "text/x-python",
   "name": "python",
   "nbconvert_exporter": "python",
   "pygments_lexer": "ipython3",
   "version": "3.7.4"
  }
 },
 "nbformat": 4,
 "nbformat_minor": 2
}
